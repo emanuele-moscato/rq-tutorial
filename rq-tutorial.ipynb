{
 "cells": [
  {
   "cell_type": "markdown",
   "metadata": {},
   "source": [
    "# Experimenting with RQ"
   ]
  },
  {
   "cell_type": "markdown",
   "metadata": {},
   "source": [
    "Experiments using a Redis server to create job queues. Redis must be running locally on the same machine that's hosting the Jupyter server. Moreover, the `redis` and `rq` Python libraries must be installed (`pip` does the job).\n",
    "\n",
    "See the readme for further info."
   ]
  },
  {
   "cell_type": "code",
   "execution_count": null,
   "metadata": {},
   "outputs": [],
   "source": [
    "from redis import Redis\n",
    "from rq import Queue, Worker\n",
    "import tasks\n",
    "from time import sleep"
   ]
  },
  {
   "cell_type": "markdown",
   "metadata": {},
   "source": [
    "Instantiate a `Redis()` object to connect to the Redis database."
   ]
  },
  {
   "cell_type": "code",
   "execution_count": null,
   "metadata": {},
   "outputs": [],
   "source": [
    "redis = Redis()"
   ]
  },
  {
   "cell_type": "code",
   "execution_count": null,
   "metadata": {},
   "outputs": [],
   "source": [
    "redis.info()"
   ]
  },
  {
   "cell_type": "markdown",
   "metadata": {},
   "source": [
    "Instantiate a Queue object connected to the Redis database running locally."
   ]
  },
  {
   "cell_type": "code",
   "execution_count": null,
   "metadata": {},
   "outputs": [],
   "source": [
    "queue = Queue(connection=redis)"
   ]
  },
  {
   "cell_type": "markdown",
   "metadata": {},
   "source": [
    "Send a job to the queue (\"enqueue\"). `queue.enqueue()` returns a `Job` object for which an ID is generated: this will be the key to retrieve all the information about the job from the Redis database.\n",
    "\n",
    "To check the status of the job, call its `status` attribute. The initial status is `'started'`, whcih changes to `'finished'` if the worker exited succesfully after executing the fucntion or to `'failed'` if the worker exited with an error.\n",
    "\n",
    "The result of a job can be obtained calling its `result` attribute, which will be None in case the job is still running or has failed."
   ]
  },
  {
   "cell_type": "code",
   "execution_count": null,
   "metadata": {
    "scrolled": false
   },
   "outputs": [],
   "source": [
    "job = queue.enqueue(tasks.slow_multiply, 2, 3)"
   ]
  },
  {
   "cell_type": "code",
   "execution_count": null,
   "metadata": {
    "scrolled": false
   },
   "outputs": [],
   "source": [
    "while job.status=='started':\n",
    "    print(\"Computing...\")\n",
    "    sleep(1)\n",
    "    \n",
    "print(\"New status:\", job.status)\n",
    "print(\"Result:\", job.result)"
   ]
  },
  {
   "cell_type": "markdown",
   "metadata": {},
   "source": [
    "List all the jobs in the queue: these are the jobs that are waiting to be executed by a worker: as soon as a worker starts one of the job in the queue, it disappears from the queue itself."
   ]
  },
  {
   "cell_type": "code",
   "execution_count": null,
   "metadata": {
    "scrolled": true
   },
   "outputs": [],
   "source": [
    "queue.get_jobs()"
   ]
  },
  {
   "cell_type": "markdown",
   "metadata": {},
   "source": [
    "Get all the jobs keys from the Redis database."
   ]
  },
  {
   "cell_type": "code",
   "execution_count": null,
   "metadata": {
    "scrolled": false
   },
   "outputs": [],
   "source": [
    "redis.keys()"
   ]
  },
  {
   "cell_type": "markdown",
   "metadata": {},
   "source": [
    "Get the workers. If no worker is currently running (to instantiate one, run `rq worker` in the terminal), this will just return an empty list.\n",
    "\n",
    "Notice that the worker must be run in the directory that contains the Python module in which the functions being called is defined."
   ]
  },
  {
   "cell_type": "code",
   "execution_count": null,
   "metadata": {},
   "outputs": [],
   "source": [
    "workers = Worker.all(connection=Redis())\n",
    "workers"
   ]
  }
 ],
 "metadata": {
  "kernelspec": {
   "display_name": "Python [conda env:Python3]",
   "language": "python",
   "name": "conda-env-Python3-py"
  },
  "language_info": {
   "codemirror_mode": {
    "name": "ipython",
    "version": 3
   },
   "file_extension": ".py",
   "mimetype": "text/x-python",
   "name": "python",
   "nbconvert_exporter": "python",
   "pygments_lexer": "ipython3",
   "version": "3.6.5"
  }
 },
 "nbformat": 4,
 "nbformat_minor": 2
}
